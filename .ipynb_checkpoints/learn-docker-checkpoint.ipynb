{
 "cells": [
  {
   "cell_type": "markdown",
   "metadata": {
    "slideshow": {
     "slide_type": "slide"
    }
   },
   "source": [
    "# Part 0 - pre-requisites\n",
    "\n",
    "Here are the identified pre-requisites to run this tutorial and actually learn something from this experience:\n",
    "\n",
    "* have a linux laptop, and an account with `sudo privilege` (i.e. you have admin rights to execute some commands). Ubuntu 20.04 will be a perfect choice for beginners.\n",
    "* have curl, git and virtualbox installed (see the 'Installation appendix')\n",
    "* docker, docker-compose and docker-machine installed  (see the 'Installation appendix')\n",
    "* a docker hub account (with login / pwd)\n",
    "* have a github account (with login / pwd)\n",
    "\n",
    "This is it. Everything in the list is free (except the laptop itself) and nothing else is needed... except the desire to learn :-)\n",
    "\n",
    "!!!\n",
    "New: I moved the tutorial onto jupyter notebook: it required a bit of work to actually make it work but the result is worth it, since you can actually run the commands as you go through the tutorial, and see the results live.\n",
    "*(=> see in the appendix the installation tip)*\n",
    "\n",
    "If you can read this text, it means that you are right now reading a jupyter notebook (even though you may not know) and all you need to do in order to go through the tutorial is choose the `bash` kernel (as shown in the image below):\n",
    "\n",
    "   ![alt text][bash_kernel]\n",
    "\n",
    "Once you did this, the code examples below will actually run the way you expect!!!\n",
    "\n",
    "[bash_kernel]: ./bash_kernel.png \"choose 'bash' kernel\""
   ]
  },
  {
   "cell_type": "markdown",
   "metadata": {},
   "source": [
    "\n",
    "# Part 1 - Orientation ad setup\n",
    "\n",
    "## Docker concepts\n",
    "\n",
    "Docker is a platform for developers and sysadmins to develop, deploy, and run applications with containers. The use of Linux containers to deploy applications is called containerization. Containers are not new, but their use for easily deploying applications is.\n",
    "\n",
    "Containerization is increasingly popular because containers are:\n",
    "* Flexible: Even the most complex applications can be containerized.\n",
    "* Lightweight: Containers leverage and share the host kernel.\n",
    "* Interchangeable: You can deploy updates and upgrades on-the-fly.\n",
    "* Portable: You can build locally, deploy to the cloud, and run anywhere.\n",
    "* Scalable: You can increase and automatically distribute container replicas.\n",
    "* Stackable: You can stack services vertically and on-the-fly.\n",
    "\n",
    "\n",
    "## Images and containers\n",
    "\n",
    "A container is launched by running an image. An image is an executable package that includes everything needed to run an application--the code, a runtime, libraries, environment variables, and configuration files.\n",
    "\n",
    "A container is a runtime instance of an image--what the image becomes in memory when executed (that is, an image with state, or a user process). You can see a list of your running containers with the command, docker ps, just as you would in Linux.\n",
    "\n",
    "\n",
    "## Containers and virtual machines\n",
    "\n",
    "A container runs natively on Linux and shares the kernel of the host machine with other containers. It runs a discrete process, taking no more memory than any other executable, making it lightweight.\n",
    "\n",
    "By contrast, a virtual machine (VM) runs a full-blown “guest” operating system with virtual access to host resources through a hypervisor. In general, VMs provide an environment with more resources than most applications need.\n",
    "\n",
    "\n",
    "## Prepare your Docker environment\n",
    "\n",
    "Install a maintained version of Docker Community Edition (CE) or Enterprise Edition (EE) on a supported platform.\n",
    "\n",
    "### Test Docker version\n",
    "\n",
    "Run 'docker --version' and ensure that you have a supported version of Docker:"
   ]
  },
  {
   "cell_type": "code",
   "execution_count": null,
   "metadata": {},
   "outputs": [],
   "source": [
    "docker --version"
   ]
  },
  {
   "cell_type": "markdown",
   "metadata": {},
   "source": [
    "Run 'docker info' or 'docker version' (without --) to view even more details about your docker installation:"
   ]
  },
  {
   "cell_type": "code",
   "execution_count": null,
   "metadata": {},
   "outputs": [],
   "source": [
    "docker info"
   ]
  },
  {
   "cell_type": "markdown",
   "metadata": {},
   "source": [
    "*To avoid permission errors (and the use of sudo), your user was added to the docker group.*\n",
    "\n",
    "\n",
    "### Test Docker installation\n",
    "\n",
    "Test that your installation works by running the simple Docker image, hello-world:\n"
   ]
  },
  {
   "cell_type": "code",
   "execution_count": 2,
   "metadata": {},
   "outputs": [
    {
     "name": "stdout",
     "output_type": "stream",
     "text": [
      "\n",
      "Hello from Docker!\n",
      "This message shows that your installation appears to be working correctly.\n",
      "\n",
      "To generate this message, Docker took the following steps:\n",
      " 1. The Docker client contacted the Docker daemon.\n",
      " 2. The Docker daemon pulled the \"hello-world\" image from the Docker Hub.\n",
      "    (amd64)\n",
      " 3. The Docker daemon created a new container from that image which runs the\n",
      "    executable that produces the output you are currently reading.\n",
      " 4. The Docker daemon streamed that output to the Docker client, which sent it\n",
      "    to your terminal.\n",
      "\n",
      "To try something more ambitious, you can run an Ubuntu container with:\n",
      " $ docker run -it ubuntu bash\n",
      "\n",
      "Share images, automate workflows, and more with a free Docker ID:\n",
      " https://hub.docker.com/\n",
      "\n",
      "For more examples and ideas, visit:\n",
      " https://docs.docker.com/get-started/\n",
      "\n"
     ]
    }
   ],
   "source": [
    "docker run hello-world"
   ]
  },
  {
   "cell_type": "markdown",
   "metadata": {},
   "source": [
    "List the hello-world image that was downloaded to your machine:"
   ]
  },
  {
   "cell_type": "code",
   "execution_count": 1,
   "metadata": {},
   "outputs": [
    {
     "name": "stdout",
     "output_type": "stream",
     "text": [
      "REPOSITORY          TAG                 IMAGE ID            CREATED             SIZE\n",
      "hello-world         latest              bf756fb1ae65        5 months ago        13.3kB\n"
     ]
    }
   ],
   "source": [
    "docker image ls"
   ]
  },
  {
   "cell_type": "markdown",
   "metadata": {},
   "source": [
    "List the hello-world container (spawned by the image) which exits after displaying its message. If it were still running, you would not need the '--all' option:"
   ]
  },
  {
   "cell_type": "markdown",
   "metadata": {},
   "source": [
    "# Appendix 1 - installation\n",
    "\n",
    "This VM was configured in order to enable running smoothly this tutorial on any environment (I know it is a bit of overkill to download a full VM to run such a simple tutorial, but this enable to make it wrok in a wide range of context, including on aprofessional laptop with a secured environment). The only actual dependency on the local setup is the need for a plain clear itnernet connectivity.\n",
    "\n",
    "VM:\n",
    "\n",
    "* base image is Ubuntu 20/04\n",
    "\n",
    "* You will find here an installation script to be run as root, and a Vagrantfile in case you want to fully erase the system.\n",
    "\n",
    "  1. create user 'tuto' (password 'tutorial')\n",
    "  1. install curl, git and virtualbox (version 6.0.14)\n",
    "  1. install docker, docker-compose and docker-machine\n",
    "  1. install jupyter and a 'bash' kernel\n",
    "  1. copy the tutorial files into your home directory (git clone)\n",
    "\n",
    "and then run the tutorial:\n",
    "'cd ~/learn-docker/ && jupyter notebook'"
   ]
  }
 ],
 "metadata": {
  "kernelspec": {
   "display_name": "Bash",
   "language": "bash",
   "name": "bash"
  },
  "language_info": {
   "codemirror_mode": "shell",
   "file_extension": ".sh",
   "mimetype": "text/x-sh",
   "name": "bash"
  }
 },
 "nbformat": 4,
 "nbformat_minor": 4
}
