{
 "cells": [
  {
   "cell_type": "markdown",
   "metadata": {},
   "source": [
    "# Part 0 - pre-requisites\n",
    "\n",
    "Here are the identified pre-requisites to run this tutorial and actually learn something from this experience:\n",
    "\n",
    "* have a linux laptop, with a 'admin' account (i.e. need to have the sudo privilege). Ubuntu will be perfect for beginners.\n",
    "* have curl, git and virtualbox installed\n",
    "* docker, docker-compose and docker-machine installed\n",
    "* a docker hub account (with login / pwd)\n",
    "* have a github account (with login / pwd)\n",
    "\n",
    "This is it. Everything in the list is free (except the laptop itself) and nothing else is needed... except the desire to learn :-)\n",
    "\n",
    "!!!\n",
    "New: I moved the tutorial onto jupyter notebook, but it requires a bit of work to actually make it work *(=> see in the appendix the installation tip)*\n",
    "All you need to do is choose the 'bash' kernel when you follow this tutorial, in order that the code examples will actually run the way you expect!!!  "
   ]
  },
  {
   "cell_type": "markdown",
   "metadata": {},
   "source": [
    "# Part 1 - Orientation ad setup\n",
    "\n",
    "## Docker concepts\n",
    "\n",
    "Docker is a platform for developers and sysadmins to develop, deploy, and run applications with containers. The use of Linux containers to deploy applications is called containerization. Containers are not new, but their use for easily deploying applications is.\n",
    "\n",
    "Containerization is increasingly popular because containers are:\n",
    "* Flexible: Even the most complex applications can be containerized.\n",
    "* Lightweight: Containers leverage and share the host kernel.\n",
    "* Interchangeable: You can deploy updates and upgrades on-the-fly.\n",
    "* Portable: You can build locally, deploy to the cloud, and run anywhere.\n",
    "* Scalable: You can increase and automatically distribute container replicas.\n",
    "* Stackable: You can stack services vertically and on-the-fly.\n",
    "\n",
    "\n",
    "## Images and containers\n",
    "\n",
    "A container is launched by running an image. An image is an executable package that includes everything needed to run an application--the code, a runtime, libraries, environment variables, and configuration files.\n",
    "\n",
    "A container is a runtime instance of an image--what the image becomes in memory when executed (that is, an image with state, or a user process). You can see a list of your running containers with the command, docker ps, just as you would in Linux.\n",
    "\n",
    "\n",
    "## Containers and virtual machines\n",
    "\n",
    "A container runs natively on Linux and shares the kernel of the host machine with other containers. It runs a discrete process, taking no more memory than any other executable, making it lightweight.\n",
    "\n",
    "By contrast, a virtual machine (VM) runs a full-blown “guest” operating system with virtual access to host resources through a hypervisor. In general, VMs provide an environment with more resources than most applications need.\n",
    "\n",
    "\n",
    "## Prepare your Docker environment\n",
    "\n",
    "Install a maintained version of Docker Community Edition (CE) or Enterprise Edition (EE) on a supported platform.\n",
    "\n",
    "### Test Docker version\n",
    "\n",
    "Run 'docker --version' and ensure that you have a supported version of Docker:"
   ]
  },
  {
   "cell_type": "code",
   "execution_count": 1,
   "metadata": {},
   "outputs": [
    {
     "name": "stdout",
     "output_type": "stream",
     "text": [
      "Docker version 19.03.8, build afacb8b7f0\n"
     ]
    }
   ],
   "source": [
    "docker --version"
   ]
  },
  {
   "cell_type": "markdown",
   "metadata": {},
   "source": [
    "Run 'docker info' or 'docker version' (without --) to view even more details about your docker installation:"
   ]
  },
  {
   "cell_type": "code",
   "execution_count": 2,
   "metadata": {},
   "outputs": [
    {
     "name": "stdout",
     "output_type": "stream",
     "text": [
      "Client:\n",
      " Debug Mode: false\n",
      "\n",
      "Server:\n",
      " Containers: 0\n",
      "  Running: 0\n",
      "  Paused: 0\n",
      "  Stopped: 0\n",
      " Images: 0\n",
      " Server Version: 19.03.8\n",
      " Storage Driver: overlay2\n",
      "  Backing Filesystem: <unknown>\n",
      "  Supports d_type: true\n",
      "  Native Overlay Diff: true\n",
      " Logging Driver: json-file\n",
      " Cgroup Driver: cgroupfs\n",
      " Plugins:\n",
      "  Volume: local\n",
      "  Network: bridge host ipvlan macvlan null overlay\n",
      "  Log: awslogs fluentd gcplogs gelf journald json-file local logentries splunk syslog\n",
      " Swarm: inactive\n",
      " Runtimes: runc\n",
      " Default Runtime: runc\n",
      " Init Binary: docker-init\n",
      " containerd version: \n",
      " runc version: \n",
      " init version: \n",
      " Security Options:\n",
      "  apparmor\n",
      "  seccomp\n",
      "   Profile: default\n",
      " Kernel Version: 5.4.0-33-generic\n",
      " Operating System: Ubuntu 20.04 LTS\n",
      " OSType: linux\n",
      " Architecture: x86_64\n",
      " CPUs: 2\n",
      " Total Memory: 7.776GiB\n",
      " Name: linux\n",
      " ID: 6SZA:QGLZ:H2U6:VLII:JG2J:5F3I:HRJG:5S4G:QM6Z:ZOLS:M5HL:TXZN\n",
      " Docker Root Dir: /var/lib/docker\n",
      " Debug Mode: false\n",
      " Registry: https://index.docker.io/v1/\n",
      " Labels:\n",
      " Experimental: false\n",
      " Insecure Registries:\n",
      "  127.0.0.0/8\n",
      " Live Restore Enabled: false\n",
      "\n",
      "WARNING: No swap limit support\n"
     ]
    }
   ],
   "source": [
    "docker info"
   ]
  },
  {
   "cell_type": "markdown",
   "metadata": {},
   "source": [
    "To avoid permission errors (and the use of sudo), add your user to the docker group.\n",
    "\n",
    "\n",
    "### Test Docker installation\n",
    "\n",
    "Test that your installation works by running the simple Docker image, hello-world:\n"
   ]
  },
  {
   "cell_type": "code",
   "execution_count": 3,
   "metadata": {},
   "outputs": [
    {
     "name": "stdout",
     "output_type": "stream",
     "text": [
      "Unable to find image 'hello-world:latest' locally\n",
      "latest: Pulling from library/hello-world\n",
      "\n",
      "\u001b[1BDigest: sha256:6a65f928fb91fcfbc963f7aa6d57c8eeb426ad9a20c7ee045538ef34847f44f1\n",
      "Status: Downloaded newer image for hello-world:latest\n",
      "\n",
      "Hello from Docker!\n",
      "This message shows that your installation appears to be working correctly.\n",
      "\n",
      "To generate this message, Docker took the following steps:\n",
      " 1. The Docker client contacted the Docker daemon.\n",
      " 2. The Docker daemon pulled the \"hello-world\" image from the Docker Hub.\n",
      "    (amd64)\n",
      " 3. The Docker daemon created a new container from that image which runs the\n",
      "    executable that produces the output you are currently reading.\n",
      " 4. The Docker daemon streamed that output to the Docker client, which sent it\n",
      "    to your terminal.\n",
      "\n",
      "To try something more ambitious, you can run an Ubuntu container with:\n",
      " $ docker run -it ubuntu bash\n",
      "\n",
      "Share images, automate workflows, and more with a free Docker ID:\n",
      " https://hub.docker.com/\n",
      "\n",
      "For more examples and ideas, visit:\n",
      " https://docs.docker.com/get-started/\n",
      "\n"
     ]
    }
   ],
   "source": [
    "docker run hello-world"
   ]
  },
  {
   "cell_type": "markdown",
   "metadata": {},
   "source": [
    "List the hello-world image that was downloaded to your machine:"
   ]
  },
  {
   "cell_type": "code",
   "execution_count": 4,
   "metadata": {},
   "outputs": [
    {
     "name": "stdout",
     "output_type": "stream",
     "text": [
      "REPOSITORY          TAG                 IMAGE ID            CREATED             SIZE\n",
      "hello-world         latest              bf756fb1ae65        5 months ago        13.3kB\n"
     ]
    }
   ],
   "source": [
    "docker image ls"
   ]
  },
  {
   "cell_type": "markdown",
   "metadata": {},
   "source": [
    "List the hello-world container (spawned by the image) which exits after displaying its message. If it were still running, you would not need the '--all' option:"
   ]
  },
  {
   "cell_type": "markdown",
   "metadata": {},
   "source": [
    "# Appendix 1 - installation\n",
    "\n",
    "This VM was configured in order to enable running smoothly this tutorial on any environment (I know it is a bit of overkill to download a full VM to run such a simple tutorial, but this enable to make it wrok in a wide range of context, including on aprofessional laptop with a secured environment). The only actual dependency on the local setup is the need for a plain clear itnernet connectivity.\n",
    "\n",
    "VM:\n",
    "\n",
    "base image is Ubuntu 20/04\n",
    "Vagrantfile instructions:\n",
    "\n",
    "* to create user tuto\n",
    "\n",
    "* install docker\n",
    "* install jupyter\n",
    "* install bash kernel\n",
    "\n",
    "and then run the tutorial:\n",
    "'cd ~/projects/ && jupyter notebook'"
   ]
  }
 ],
 "metadata": {
  "kernelspec": {
   "display_name": "Bash",
   "language": "bash",
   "name": "bash"
  },
  "language_info": {
   "codemirror_mode": "shell",
   "file_extension": ".sh",
   "mimetype": "text/x-sh",
   "name": "bash"
  }
 },
 "nbformat": 4,
 "nbformat_minor": 4
}
